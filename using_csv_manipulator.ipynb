{
 "cells": [
  {
   "cell_type": "code",
   "execution_count": 2,
   "id": "f65ab309",
   "metadata": {},
   "outputs": [
    {
     "name": "stdout",
     "output_type": "stream",
     "text": [
      "[['name', 'year', 'cgpa'], ['mondal', '1998', '3.8'], ['kamal', '2000', '3.2']]\n"
     ]
    }
   ],
   "source": [
    "import csv_manipulator as cnv\n",
    "\n",
    "data = cnv.read_csv('demo1.csv')\n",
    "\n",
    "print(data)"
   ]
  },
  {
   "cell_type": "code",
   "execution_count": 5,
   "id": "a68e81b1",
   "metadata": {},
   "outputs": [],
   "source": [
    "cnv.write_to_csv(data, 'output_csv_file_new.csv')"
   ]
  },
  {
   "cell_type": "code",
   "execution_count": null,
   "id": "08a603fc",
   "metadata": {},
   "outputs": [],
   "source": []
  }
 ],
 "metadata": {
  "kernelspec": {
   "display_name": "Python 3 (ipykernel)",
   "language": "python",
   "name": "python3"
  },
  "language_info": {
   "codemirror_mode": {
    "name": "ipython",
    "version": 3
   },
   "file_extension": ".py",
   "mimetype": "text/x-python",
   "name": "python",
   "nbconvert_exporter": "python",
   "pygments_lexer": "ipython3",
   "version": "3.9.13"
  }
 },
 "nbformat": 4,
 "nbformat_minor": 5
}
